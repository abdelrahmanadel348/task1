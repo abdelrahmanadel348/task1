{
  "nbformat": 4,
  "nbformat_minor": 0,
  "metadata": {
    "colab": {
      "provenance": []
    },
    "kernelspec": {
      "name": "python3",
      "display_name": "Python 3"
    },
    "language_info": {
      "name": "python"
    }
  },
  "cells": [
    {
      "cell_type": "code",
      "execution_count": 33,
      "metadata": {
        "colab": {
          "base_uri": "https://localhost:8080/"
        },
        "id": "Mf2DQusLtZgb",
        "outputId": "37a95fbd-b02e-40ba-9d36-e623d77edb5e"
      },
      "outputs": [
        {
          "output_type": "stream",
          "name": "stdout",
          "text": [
            "Cost 90\n",
            "needed= 80\n"
          ]
        }
      ],
      "source": [
        "item1 = 20\n",
        "item2 = 30\n",
        "item3 = 40\n",
        "totalbudget = 10\n",
        "totalcost = item1 + item2 + item3\n",
        "print(\"Cost\",totalcost)\n",
        "\n",
        "diff = totalbudget-totalcost\n",
        "\n",
        "if totalbudget >= totalcost:\n",
        "\n",
        "\n",
        "  print(\"difference between budget=\",diff)\n",
        "\n",
        "\n",
        "else:\n",
        "\n",
        "  needed = totalcost-totalbudget\n",
        "\n",
        "\n",
        "  print(\"needed=\",needed)\n",
        "\n"
      ]
    }
  ]
}